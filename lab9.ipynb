{
 "cells": [
  {
   "cell_type": "markdown",
   "id": "26ba9136",
   "metadata": {},
   "source": [
    "# Laboratorio 9\n",
    "Diego García 22404 <br>\n",
    "César López 22535 <br>\n",
    "\n",
    "github: https://github.com/DiegoGarV/Lab9-IA "
   ]
  },
  {
   "cell_type": "markdown",
   "id": "7808c6e6",
   "metadata": {},
   "source": [
    "## Task 1 - Teoría\n",
    "\n",
    "1. **Diga cual es la diferencia entre Modelos de Markov y Hidden Markov Models**\n",
    "Los Modelos de Markov representan un sistema que cambia su estado con el tiempo. Por lo tanto, solo depende de su estado actual y no de como llegó a él. Por su parte, en los HMM los estados no se pueden observar de forma directa. Lo que si se puede observar, son resultados que dan pistas del estado real. Esto hace al HMM más realista en varios problemas. \n",
    "\n",
    "2. **Investigue qué son los factorial HMM (Hidden Markov Models)**\n",
    "Un factorial HMM es una versión más avanzada del HMM. A diferencia del normal, este tiene varias cadenas ocultas de estados que funcionan al mismo tiempo y todas contribuyen en generar el resultado observable. Este es útil para encontrar los estados cuando dependen de multiples causas. Aunque hay varios estados ocultos, el resultado observable sigue siendo solo uno.\n",
    "\n",
    "3. **Especifique en sus propias palabras el algoritmo Forward Backward para HMM**\n",
    "Este es un algoritmo que permite calcular que tan probable es que se esté en cada uno de los estados ocultos en todo momento según todas las secuencias de observaciones. Para cada momento y estado se toma un tiempo pasado y se miran las probabilidades de cada estado futuro y se toma un tiempo futuro y se van calculando las probabilidades hacia atras.  \n",
    "\n",
    "4. **En el algoritmo de Forward Backward, por qué es necesario el paso de Backward (puede escribir ejemplos o casos para responder esta pregunta)**\n",
    "Porque el paso Forward no logra dar la probabilidad completa de haber estado en alguno de los estados, pues no indica las probabilidades futuras. Por ejemplo: yo quiero saber si la semana pasada mi novia estuvo feliz o triste. Uno de mis observables fue que el miercoles no sonrió. Ahí Forward me diría que lo más probable es que esté triste. Pero si además el jueves y el viernes estuvo sonriendo todo el día, Backward me mostraría que es más probable que esté feliz. Mi conclusión entonces podría ser que aunque el miercoles no sonrió, los demás días si así que lo más seguro es que haya estado feliz. Forward solo limitaría mi visión y me haría tener una conclusión imprecisa."
   ]
  },
  {
   "cell_type": "markdown",
   "id": "56aea18c",
   "metadata": {},
   "source": [
    "## Task 2 - Algoritmo Forward Backward en HMM"
   ]
  },
  {
   "cell_type": "code",
   "execution_count": 20,
   "id": "e6b1ce9a",
   "metadata": {},
   "outputs": [],
   "source": [
    "import random\n",
    "\n",
    "# Descomentar esta línea para reproducibilidad\n",
    "# random.seed(42)\n",
    "\n",
    "class HMM:\n",
    "    def __init__(self, states, observations, initial_prob, transition_prob, emission_prob):\n",
    "        self.states = states\n",
    "        self.observations = observations\n",
    "        self.initial_prob = initial_prob\n",
    "        self.transition_prob = transition_prob\n",
    "        self.emission_prob = emission_prob\n",
    "\n",
    "    def generate_sequence(self, length):\n",
    "        sequence = [] # observaciones\n",
    "        states_sequence = [] # estados ocultos\n",
    "\n",
    "        current_state = random.choices(self.states, weights=[self.initial_prob[s] for s in self.states])[0]\n",
    "        states_sequence.append(current_state)\n",
    "\n",
    "        current_obs = random.choices(self.observations, weights=[self.emission_prob[current_state][o] for o in self.observations])[0]\n",
    "        sequence.append(current_obs)\n",
    "\n",
    "        for _ in range(1, length):\n",
    "            current_state = random.choices(self.states, weights=[self.transition_prob[states_sequence[-1]][s] for s in self.states])[0]\n",
    "            states_sequence.append(current_state)\n",
    "\n",
    "            current_obs = random.choices(self.observations, weights=[self.emission_prob[current_state][o] for o in self.observations])[0]\n",
    "            sequence.append(current_obs)\n",
    "\n",
    "        return sequence\n",
    "\n",
    "    def forward(self, obs_seq):\n",
    "        fwd = []\n",
    "        f_prev = {}\n",
    "        # Inicializar con la probabilidad inicial\n",
    "        for state in self.states:\n",
    "            f_prev[state] = self.initial_prob[state] * self.emission_prob[state][obs_seq[0]]\n",
    "        fwd.append(f_prev)\n",
    "\n",
    "        # Iterar sobre las observaciones siguientes\n",
    "        for obs in obs_seq[1:]:\n",
    "            f_curr = {}\n",
    "            for curr_state in self.states:\n",
    "                sum_prob = sum(f_prev[prev_state] * self.transition_prob[prev_state][curr_state] for prev_state in self.states)\n",
    "                f_curr[curr_state] = sum_prob * self.emission_prob[curr_state][obs]\n",
    "            fwd.append(f_curr)\n",
    "            f_prev = f_curr\n",
    "\n",
    "        return fwd\n",
    "\n",
    "    def backward(self, obs_seq):\n",
    "        bkw = []\n",
    "        b_prev = {}\n",
    "        # Inicializar con 1s\n",
    "        for state in self.states:\n",
    "            b_prev[state] = 1.0\n",
    "        bkw.insert(0, b_prev)\n",
    "\n",
    "        # Iterar hacia atrás\n",
    "        for obs in reversed(obs_seq[1:]):\n",
    "            b_curr = {}\n",
    "            for curr_state in self.states:\n",
    "                b_curr[curr_state] = sum(\n",
    "                    self.transition_prob[curr_state][next_state] *\n",
    "                    self.emission_prob[next_state][obs] *\n",
    "                    b_prev[next_state]\n",
    "                    for next_state in self.states\n",
    "                )\n",
    "            bkw.insert(0, b_curr)\n",
    "            b_prev = b_curr\n",
    "\n",
    "        return bkw\n",
    "\n",
    "    def compute_state_probabilities(self, fwd, bkw):\n",
    "        posterior = []\n",
    "        for i in range(len(fwd)):\n",
    "            probs = {}\n",
    "            norm_factor = sum(fwd[i][state] * bkw[i][state] for state in self.states)\n",
    "            for state in self.states:\n",
    "                probs[state] = (fwd[i][state] * bkw[i][state]) / norm_factor\n",
    "            posterior.append(probs)\n",
    "        return posterior"
   ]
  },
  {
   "cell_type": "code",
   "execution_count": 21,
   "id": "ce5439ce",
   "metadata": {},
   "outputs": [],
   "source": [
    "# Definición de parametros del modelo HMM\n",
    "states = ['Rainy', 'Sunny']\n",
    "observations = ['Sunny', 'Sunny', 'Rainy']\n",
    "initial_prob = {'Sunny': 0.5, 'Rainy': 0.5}\n",
    "transation_prob = {'Sunny': {'Sunny': 0.8, 'Rainy': 0.2}, 'Rainy': {'Sunny': 0.4, 'Rainy': 0.6}}\n",
    "emission_prob = {'Sunny': {'Sunny': 0.8, 'Rainy': 0.2}, 'Rainy': {'Sunny': 0.3, 'Rainy': 0.7}}"
   ]
  },
  {
   "cell_type": "code",
   "execution_count": 22,
   "id": "ce122203",
   "metadata": {},
   "outputs": [
    {
     "name": "stdout",
     "output_type": "stream",
     "text": [
      "Modelo HMM creado con éxito.\n"
     ]
    }
   ],
   "source": [
    "# Crear una instancia del modelo HMM\n",
    "hmm = HMM(states, observations, initial_prob, transation_prob, emission_prob)\n",
    "print(\"Modelo HMM creado con éxito.\")"
   ]
  },
  {
   "cell_type": "code",
   "execution_count": 23,
   "id": "13c83d5e",
   "metadata": {},
   "outputs": [
    {
     "name": "stdout",
     "output_type": "stream",
     "text": [
      "Secuencia generada: ['Sunny', 'Sunny', 'Sunny', 'Sunny', 'Sunny']\n"
     ]
    }
   ],
   "source": [
    "# Generar una secuencia de observaciones\n",
    "obs_sequence = hmm.generate_sequence(5)\n",
    "print(\"Secuencia generada:\", obs_sequence)"
   ]
  },
  {
   "cell_type": "code",
   "execution_count": null,
   "id": "8a4b2dc3",
   "metadata": {},
   "outputs": [
    {
     "name": "stdout",
     "output_type": "stream",
     "text": [
      "Tiempo 0: {'Rainy': 0.15, 'Sunny': 0.4}\n",
      "Tiempo 1: {'Rainy': 0.051000000000000004, 'Sunny': 0.30400000000000005}\n",
      "Tiempo 2: {'Rainy': 0.06398000000000001, 'Sunny': 0.05272000000000002}\n"
     ]
    }
   ],
   "source": [
    "# Calculo de probabilidades Forward\n",
    "forward_probs = hmm.forward(observations)\n",
    "for t, probs in enumerate(forward_probs):\n",
    "    print(f\"Tiempo {t}: {probs}\")"
   ]
  },
  {
   "cell_type": "code",
   "execution_count": null,
   "id": "1be34b35",
   "metadata": {},
   "outputs": [
    {
     "name": "stdout",
     "output_type": "stream",
     "text": [
      "\n",
      "Probabilidades Backward: [{'Rainy': 0.18600000000000003, 'Sunny': 0.22200000000000006}, {'Rainy': 0.5, 'Sunny': 0.30000000000000004}, {'Rainy': 1.0, 'Sunny': 1.0}]\n"
     ]
    }
   ],
   "source": [
    "# Calculo de probabilidades Backward\n",
    "backward_probs = hmm.backward(observations)\n",
    "print(\"\\nProbabilidades Backward:\")\n",
    "for t, probs in enumerate(backward_probs):\n",
    "    print(f\"Tiempo {t}: {probs}\")"
   ]
  },
  {
   "cell_type": "code",
   "execution_count": 29,
   "id": "fe0fd0cd",
   "metadata": {},
   "outputs": [
    {
     "name": "stdout",
     "output_type": "stream",
     "text": [
      "\n",
      "Probabilidades de estado: [{'Rainy': 0.23907455012853465, 'Sunny': 0.7609254498714653}, {'Rainy': 0.21850899742930588, 'Sunny': 0.7814910025706941}, {'Rainy': 0.5482433590402742, 'Sunny': 0.45175664095972584}]\n"
     ]
    }
   ],
   "source": [
    "# Cálculo de probabilidades de estado\n",
    "state_probs = hmm.compute_state_probabilities(forward_probs, backward_probs)\n",
    "print(\"\\nProbabilidades de estado:\", state_probs)"
   ]
  }
 ],
 "metadata": {
  "kernelspec": {
   "display_name": "Python 3",
   "language": "python",
   "name": "python3"
  },
  "language_info": {
   "codemirror_mode": {
    "name": "ipython",
    "version": 3
   },
   "file_extension": ".py",
   "mimetype": "text/x-python",
   "name": "python",
   "nbconvert_exporter": "python",
   "pygments_lexer": "ipython3",
   "version": "3.11.9"
  }
 },
 "nbformat": 4,
 "nbformat_minor": 5
}
